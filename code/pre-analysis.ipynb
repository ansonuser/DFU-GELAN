{
 "cells": [
  {
   "cell_type": "code",
   "execution_count": 2,
   "id": "3b39df49",
   "metadata": {},
   "outputs": [
    {
     "name": "stdout",
     "output_type": "stream",
     "text": [
      "d:\\Side_projects\\DFU\\diabetic-foot-ulcer-assignment\\code\n"
     ]
    }
   ],
   "source": [
    "import cv2\n",
    "import os\n",
    "from collections import defaultdict\n",
    "import pandas as pd\n",
    "import seaborn as sns\n",
    "import matplotlib.pyplot as plt\n",
    "print(os.getcwd())"
   ]
  },
  {
   "cell_type": "markdown",
   "id": "8f2826a1",
   "metadata": {},
   "source": [
    "#### Manually remove 2 non-informative data and some duplicated data:\n",
    "- foot-wound-other-wound-split\\foot-wound\\698745687576686280.jpg\n",
    "- foot-wound-other-wound-split\\foot-wound\\5413851144773139443.jpg\n",
    "\n",
    "#### Observe count of each group to see if we have following issue:\n",
    "\n",
    "- Imbalance\n",
    "- Different data dimension"
   ]
  },
  {
   "cell_type": "code",
   "execution_count": 55,
   "id": "bc664e96",
   "metadata": {},
   "outputs": [
    {
     "name": "stdout",
     "output_type": "stream",
     "text": [
      "healthy-skin has size: 503\n",
      "ulcer has size: 512\n",
      "foot-wound has size: 606\n",
      "other-wound has size: 684\n"
     ]
    }
   ],
   "source": [
    "folder_names = [\"../foot-wound-healthy-skin-split\", \"../foot-wound-other-wound-split\"]\n",
    "\n",
    "file_paths = []\n",
    "groups = []\n",
    "\n",
    "for folder_name in folder_names:\n",
    "    group = defaultdict(list)\n",
    "    for root, dir, files in os.walk(folder_name):\n",
    "        for f in files:\n",
    "            f = f.lower()\n",
    "            if f.endswith(\"jpg\") or f.endswith(\"png\") or f.endswith(\"jpeg\"):\n",
    "                key = root.split(\"\\\\\")[-1]\n",
    "                group[key].append(os.path.join(root, f))\n",
    "                file_paths.append(os.path.join(root, f))\n",
    "    groups.append(group)\n",
    "\n",
    "for group in groups:\n",
    "    for k, v in group.items():\n",
    "        print(f\"{k} has size: {len(v)}\")\n",
    "      \n"
   ]
  },
  {
   "cell_type": "markdown",
   "id": "3d09ee7a",
   "metadata": {},
   "source": [
    "#### Get information like aspect ratios, w_hats, h_hats. Try to find the MLE.\n",
    "\n",
    "##### Aspect Ratios\n",
    "\n",
    "- Data size from skin group got aspect ratio=1\n",
    "- Data size from foot group got aspect ratio=1.89 and 1.76 "
   ]
  },
  {
   "cell_type": "code",
   "execution_count": 56,
   "id": "cc236c3a",
   "metadata": {},
   "outputs": [
    {
     "name": "stdout",
     "output_type": "stream",
     "text": [
      "==================================================\n",
      "k=healthy-skin\n",
      "503\n",
      "valid count: 503\n",
      "ratio: 1.0019880715705765\n",
      "==================================================\n",
      "k=ulcer\n",
      "512\n",
      "valid count: 512\n",
      "ratio: 1.0009765625\n",
      "==================================================\n",
      "k=foot-wound\n",
      "606\n",
      "valid count: 606\n",
      "ratio: 1.8739563103988646\n",
      "==================================================\n",
      "k=other-wound\n",
      "684\n",
      "valid count: 684\n",
      "ratio: 1.7565004926847034\n"
     ]
    }
   ],
   "source": [
    "# key = \"foot-wound\" # 45, 1.755 | 510, 1.8735\n",
    "# key = \"other-wound\" # 598, 1.69 | 85, 2.166\n",
    "def get_data_size(group, h_thres=0):\n",
    "    \n",
    "    bin_width = 100\n",
    "    res = {}\n",
    "    ratio_dict = {}\n",
    "    for k, file_paths in group.items():\n",
    "        count = 0\n",
    "        ratio_sum = 0\n",
    "        print(\"=\"*50)\n",
    "        print(f\"k={k}\")\n",
    "        print(len(file_paths))\n",
    "        datasize_collections = defaultdict(list)\n",
    "        for f in file_paths:\n",
    "            img = cv2.imread(f)\n",
    "            h, w, c = img.shape\n",
    "            w = w//bin_width\n",
    "            h = h//bin_width\n",
    "            if h < w:\n",
    "                h, w = w, h\n",
    "                \n",
    "            shape = (h, w)    \n",
    "            if h > h_thres:\n",
    "                ratio_sum += shape[0]/shape[1]\n",
    "                count += 1\n",
    "                datasize_collections[shape].append(f)\n",
    "        res[k] = datasize_collections\n",
    "        ratio_hat = ratio_sum/count\n",
    "        ratio_dict[k] = ratio_hat\n",
    "        print(\"valid count:\", count)\n",
    "        print(\"ratio:\", ratio_hat)\n",
    "    return res, ratio_dict\n",
    "\n",
    "size_of_skin, ratio_skin = get_data_size(groups[0])\n",
    "size_of_foot, ratio_foot = get_data_size(groups[1])\n"
   ]
  },
  {
   "cell_type": "markdown",
   "id": "4de4fb0e",
   "metadata": {},
   "source": [
    "##### W_hat, H_hat\n",
    "\n",
    "- Skin size=200x200\n",
    "- Foot size\n",
    "    - Other wound: 180x313\n",
    "    - Foot wound: 667x1183"
   ]
  },
  {
   "cell_type": "code",
   "execution_count": 57,
   "id": "1d6cb8be",
   "metadata": {},
   "outputs": [
    {
     "name": "stdout",
     "output_type": "stream",
     "text": [
      "key=foot-wound\n",
      "w = 6.293800787442074, h = 11.794307702020419, count = 606\n",
      "key=other-wound\n",
      "w = 1.7831155715649947, h = 3.13204337996768, count = 684\n",
      "key=healthy-skin\n",
      "w = 2.004954181481779, h = 2.0089401738902914, count = 503\n",
      "key=ulcer\n",
      "w = 2.008275561696481, h = 2.0102367682997, count = 512\n"
     ]
    }
   ],
   "source": [
    "import numpy as np\n",
    "\n",
    "counter_groups = {}\n",
    "for data in [size_of_foot, size_of_skin]:\n",
    "    for j, group in data.items():\n",
    "        counter = {}\n",
    "        print(f\"key={j}\")\n",
    "        w_sum = 0\n",
    "        h_sum = 0\n",
    "        total_sum = 0\n",
    "        for k, v in group.items():\n",
    "            w_sum += k[0]*k[1]*len(v)\n",
    "            counter[k] = len(v)\n",
    "            total_sum += len(v)\n",
    "        if \"wound\" not in j:\n",
    "            w_hat = np.sqrt(w_sum/(ratio_skin[j]*total_sum))\n",
    "            h_hat = w_hat*ratio_skin[j]\n",
    "        else:\n",
    "            w_hat = np.sqrt(w_sum/(ratio_foot[j]*total_sum))\n",
    "            h_hat = w_hat*ratio_foot[j]\n",
    "        print(f\"w = {w_hat}, h = {h_hat}, count = {total_sum}\")\n",
    "   \n",
    "        counter_groups[j] = counter\n"
   ]
  },
  {
   "cell_type": "code",
   "execution_count": 35,
   "id": "7ed0fbe2",
   "metadata": {},
   "outputs": [
    {
     "data": {
      "text/plain": [
       "dict_keys(['foot-wound', 'other-wound'])"
      ]
     },
     "execution_count": 35,
     "metadata": {},
     "output_type": "execute_result"
    }
   ],
   "source": [
    "size_of_foot.keys()"
   ]
  },
  {
   "cell_type": "code",
   "execution_count": 58,
   "id": "b6260589",
   "metadata": {},
   "outputs": [
    {
     "name": "stdout",
     "output_type": "stream",
     "text": [
      "w hat:3.9139534883720932, h hat:7.1869767441860475\n",
      "# of sample:1290\n",
      "# of information loss:458\n"
     ]
    }
   ],
   "source": [
    "information_changes = []\n",
    "issue_files = []\n",
    "w_hat = (606*6.3 + 684*1.8)/(606+684)\n",
    "h_hat = (606*11.8 + 684*3.1)/(606+684)\n",
    "print(f\"w hat:{w_hat}, h hat:{h_hat}\")\n",
    "for cat, data in size_of_foot.items():\n",
    "    for k, v in data.items():\n",
    "        w_min = min(w_hat, k[0])\n",
    "        h_min = min(h_hat, k[1])\n",
    "        intersection = w_min*h_min\n",
    "        information_changes += [1-intersection/(k[0]*k[1])]*len(v)\n",
    "        if (1-intersection/(k[0]*k[1])) > .5:\n",
    "            issue_files += v\n",
    "    \n",
    "print(f\"# of sample:{len(information_changes)}\")\n",
    "print(f\"# of information loss:{len(issue_files)}\")"
   ]
  },
  {
   "cell_type": "code",
   "execution_count": 59,
   "id": "1a53e73e",
   "metadata": {},
   "outputs": [
    {
     "data": {
      "text/plain": [
       "Text(0.5, 1.0, 'Information Changes')"
      ]
     },
     "execution_count": 59,
     "metadata": {},
     "output_type": "execute_result"
    },
    {
     "data": {
      "image/png": "[encoded data removed]",
      "text/plain": [
       "<Figure size 640x480 with 1 Axes>"
      ]
     },
     "metadata": {},
     "output_type": "display_data"
    }
   ],
   "source": [
    "plt.hist(information_changes)\n",
    "plt.title(\"Information Changes\")"
   ]
  },
  {
   "cell_type": "code",
   "execution_count": 45,
   "id": "ed8d92d9",
   "metadata": {},
   "outputs": [
    {
     "data": {
      "text/plain": [
       "dict_keys(['foot-wound', 'other-wound', 'healthy-skin', 'ulcer'])"
      ]
     },
     "execution_count": 45,
     "metadata": {},
     "output_type": "execute_result"
    }
   ],
   "source": [
    "counter_groups.keys()"
   ]
  },
  {
   "cell_type": "code",
   "execution_count": 60,
   "id": "79a5d746",
   "metadata": {},
   "outputs": [],
   "source": [
    "def show_heatmap(key=\"foot-wound\"):    \n",
    "    df = pd.DataFrame.from_dict(counter_groups[key], orient='index', columns=['count'])\n",
    "    df = df.reset_index()\n",
    "\n",
    "    df[\"x\"] = df[\"index\"].apply(lambda x: x[0])\n",
    "    df[\"y\"] = df[\"index\"].apply(lambda x: x[1])\n",
    "    heatmap_data = df.pivot_table(index='y', columns='x', values='count')\n",
    "    heatmap_data.fillna(0, inplace=True)\n",
    "    sns.heatmap(heatmap_data)\n",
    "\n",
    "    plt.xlabel(\"X\")\n",
    "    plt.ylabel(\"Y\")\n",
    "    plt.title(key)\n",
    "    plt.show()\n"
   ]
  },
  {
   "cell_type": "code",
   "execution_count": 61,
   "id": "3f0871fa",
   "metadata": {},
   "outputs": [
    {
     "data": {
      "image/png": "[encoded data removed]",
      "text/plain": [
       "<Figure size 640x480 with 2 Axes>"
      ]
     },
     "metadata": {},
     "output_type": "display_data"
    }
   ],
   "source": [
    "show_heatmap()"
   ]
  },
  {
   "cell_type": "code",
   "execution_count": 62,
   "id": "54e28951",
   "metadata": {},
   "outputs": [
    {
     "data": {
      "image/png": "[encoded data removed]",
      "text/plain": [
       "<Figure size 640x480 with 2 Axes>"
      ]
     },
     "metadata": {},
     "output_type": "display_data"
    }
   ],
   "source": [
    "show_heatmap(\"other-wound\")"
   ]
  },
  {
   "cell_type": "markdown",
   "id": "158a93c5",
   "metadata": {},
   "source": [
    "## Observation\n",
    "\n",
    "The size of other-wound and foot-wound are extremely different. Even if we use w_hat, h_hat as the idea shape of samples. From the plot of information changes, we will lose more 1/3 (threshold=.5) data.\n",
    "\n",
    "Several ways are considered here:\n",
    "- Two phases classification:\n",
    "    - phase 1: use only small size to train a classification\n",
    "    - phase 2: split big size image to NxM blocks and filter it with the model from phase1. For each big size image will have \n",
    "    {\n",
    "        image_id: [blck1, bock2,...,blocknm]\n",
    "    }. \n",
    "    Bag of classification finetuning in phase2 \n",
    "\n",
    "- Data are not well-defined:\n",
    "    - The model can't learn from phase1. If we simply resize data to same size, the model will learn the size feature which is not what we want. (Simply check with logit regression with size features only. See classification2.py )\n",
    "\n",
    "- Others:\n",
    "    - Transformation based methods."
   ]
  },
  {
   "cell_type": "markdown",
   "id": "1ad5d423",
   "metadata": {},
   "source": []
  }
 ],
 "metadata": {
  "kernelspec": {
   "display_name": "yolov9",
   "language": "python",
   "name": "python3"
  },
  "language_info": {
   "codemirror_mode": {
    "name": "ipython",
    "version": 3
   },
   "file_extension": ".py",
   "mimetype": "text/x-python",
   "name": "python",
   "nbconvert_exporter": "python",
   "pygments_lexer": "ipython3",
   "version": "3.9.21"
  }
 },
 "nbformat": 4,
 "nbformat_minor": 5
}
